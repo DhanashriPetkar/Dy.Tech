{
  "nbformat": 4,
  "nbformat_minor": 0,
  "metadata": {
    "colab": {
      "provenance": [],
      "authorship_tag": "ABX9TyNk5UqT6kniM4aGZaGhdsru",
      "include_colab_link": true
    },
    "kernelspec": {
      "name": "python3",
      "display_name": "Python 3"
    },
    "language_info": {
      "name": "python"
    }
  },
  "cells": [
    {
      "cell_type": "markdown",
      "metadata": {
        "id": "view-in-github",
        "colab_type": "text"
      },
      "source": [
        "<a href=\"https://colab.research.google.com/github/amarparab28/Dy.Tech/blob/main/G42_DY_TECH_REAL_DATASET.ipynb\" target=\"_parent\"><img src=\"https://colab.research.google.com/assets/colab-badge.svg\" alt=\"Open In Colab\"/></a>"
      ]
    },
    {
      "cell_type": "markdown",
      "source": [
        "#**GROUP 42**\n",
        "## GROUP NAME - DY.TECH\n",
        "TOPIC - TRANSFORMER BASED RECOMMENDATION SYSTEM"
      ],
      "metadata": {
        "id": "lb0hB474kvob"
      }
    },
    {
      "cell_type": "markdown",
      "source": [
        "DATA UPLOADING"
      ],
      "metadata": {
        "id": "aVUBYEHLlNgN"
      }
    },
    {
      "cell_type": "code",
      "source": [
        "from google.colab import files\n",
        "uploaded = files.upload()"
      ],
      "metadata": {
        "colab": {
          "base_uri": "https://localhost:8080/",
          "height": 142
        },
        "id": "9-8NAsYuiicU",
        "outputId": "3087b15d-6dac-4d4d-b65f-55ffddacf22a"
      },
      "execution_count": 20,
      "outputs": [
        {
          "output_type": "display_data",
          "data": {
            "text/plain": [
              "<IPython.core.display.HTML object>"
            ],
            "text/html": [
              "\n",
              "     <input type=\"file\" id=\"files-c906c252-d9d4-47c1-9c41-4f82fcef9bba\" name=\"files[]\" multiple disabled\n",
              "        style=\"border:none\" />\n",
              "     <output id=\"result-c906c252-d9d4-47c1-9c41-4f82fcef9bba\">\n",
              "      Upload widget is only available when the cell has been executed in the\n",
              "      current browser session. Please rerun this cell to enable.\n",
              "      </output>\n",
              "      <script>// Copyright 2017 Google LLC\n",
              "//\n",
              "// Licensed under the Apache License, Version 2.0 (the \"License\");\n",
              "// you may not use this file except in compliance with the License.\n",
              "// You may obtain a copy of the License at\n",
              "//\n",
              "//      http://www.apache.org/licenses/LICENSE-2.0\n",
              "//\n",
              "// Unless required by applicable law or agreed to in writing, software\n",
              "// distributed under the License is distributed on an \"AS IS\" BASIS,\n",
              "// WITHOUT WARRANTIES OR CONDITIONS OF ANY KIND, either express or implied.\n",
              "// See the License for the specific language governing permissions and\n",
              "// limitations under the License.\n",
              "\n",
              "/**\n",
              " * @fileoverview Helpers for google.colab Python module.\n",
              " */\n",
              "(function(scope) {\n",
              "function span(text, styleAttributes = {}) {\n",
              "  const element = document.createElement('span');\n",
              "  element.textContent = text;\n",
              "  for (const key of Object.keys(styleAttributes)) {\n",
              "    element.style[key] = styleAttributes[key];\n",
              "  }\n",
              "  return element;\n",
              "}\n",
              "\n",
              "// Max number of bytes which will be uploaded at a time.\n",
              "const MAX_PAYLOAD_SIZE = 100 * 1024;\n",
              "\n",
              "function _uploadFiles(inputId, outputId) {\n",
              "  const steps = uploadFilesStep(inputId, outputId);\n",
              "  const outputElement = document.getElementById(outputId);\n",
              "  // Cache steps on the outputElement to make it available for the next call\n",
              "  // to uploadFilesContinue from Python.\n",
              "  outputElement.steps = steps;\n",
              "\n",
              "  return _uploadFilesContinue(outputId);\n",
              "}\n",
              "\n",
              "// This is roughly an async generator (not supported in the browser yet),\n",
              "// where there are multiple asynchronous steps and the Python side is going\n",
              "// to poll for completion of each step.\n",
              "// This uses a Promise to block the python side on completion of each step,\n",
              "// then passes the result of the previous step as the input to the next step.\n",
              "function _uploadFilesContinue(outputId) {\n",
              "  const outputElement = document.getElementById(outputId);\n",
              "  const steps = outputElement.steps;\n",
              "\n",
              "  const next = steps.next(outputElement.lastPromiseValue);\n",
              "  return Promise.resolve(next.value.promise).then((value) => {\n",
              "    // Cache the last promise value to make it available to the next\n",
              "    // step of the generator.\n",
              "    outputElement.lastPromiseValue = value;\n",
              "    return next.value.response;\n",
              "  });\n",
              "}\n",
              "\n",
              "/**\n",
              " * Generator function which is called between each async step of the upload\n",
              " * process.\n",
              " * @param {string} inputId Element ID of the input file picker element.\n",
              " * @param {string} outputId Element ID of the output display.\n",
              " * @return {!Iterable<!Object>} Iterable of next steps.\n",
              " */\n",
              "function* uploadFilesStep(inputId, outputId) {\n",
              "  const inputElement = document.getElementById(inputId);\n",
              "  inputElement.disabled = false;\n",
              "\n",
              "  const outputElement = document.getElementById(outputId);\n",
              "  outputElement.innerHTML = '';\n",
              "\n",
              "  const pickedPromise = new Promise((resolve) => {\n",
              "    inputElement.addEventListener('change', (e) => {\n",
              "      resolve(e.target.files);\n",
              "    });\n",
              "  });\n",
              "\n",
              "  const cancel = document.createElement('button');\n",
              "  inputElement.parentElement.appendChild(cancel);\n",
              "  cancel.textContent = 'Cancel upload';\n",
              "  const cancelPromise = new Promise((resolve) => {\n",
              "    cancel.onclick = () => {\n",
              "      resolve(null);\n",
              "    };\n",
              "  });\n",
              "\n",
              "  // Wait for the user to pick the files.\n",
              "  const files = yield {\n",
              "    promise: Promise.race([pickedPromise, cancelPromise]),\n",
              "    response: {\n",
              "      action: 'starting',\n",
              "    }\n",
              "  };\n",
              "\n",
              "  cancel.remove();\n",
              "\n",
              "  // Disable the input element since further picks are not allowed.\n",
              "  inputElement.disabled = true;\n",
              "\n",
              "  if (!files) {\n",
              "    return {\n",
              "      response: {\n",
              "        action: 'complete',\n",
              "      }\n",
              "    };\n",
              "  }\n",
              "\n",
              "  for (const file of files) {\n",
              "    const li = document.createElement('li');\n",
              "    li.append(span(file.name, {fontWeight: 'bold'}));\n",
              "    li.append(span(\n",
              "        `(${file.type || 'n/a'}) - ${file.size} bytes, ` +\n",
              "        `last modified: ${\n",
              "            file.lastModifiedDate ? file.lastModifiedDate.toLocaleDateString() :\n",
              "                                    'n/a'} - `));\n",
              "    const percent = span('0% done');\n",
              "    li.appendChild(percent);\n",
              "\n",
              "    outputElement.appendChild(li);\n",
              "\n",
              "    const fileDataPromise = new Promise((resolve) => {\n",
              "      const reader = new FileReader();\n",
              "      reader.onload = (e) => {\n",
              "        resolve(e.target.result);\n",
              "      };\n",
              "      reader.readAsArrayBuffer(file);\n",
              "    });\n",
              "    // Wait for the data to be ready.\n",
              "    let fileData = yield {\n",
              "      promise: fileDataPromise,\n",
              "      response: {\n",
              "        action: 'continue',\n",
              "      }\n",
              "    };\n",
              "\n",
              "    // Use a chunked sending to avoid message size limits. See b/62115660.\n",
              "    let position = 0;\n",
              "    do {\n",
              "      const length = Math.min(fileData.byteLength - position, MAX_PAYLOAD_SIZE);\n",
              "      const chunk = new Uint8Array(fileData, position, length);\n",
              "      position += length;\n",
              "\n",
              "      const base64 = btoa(String.fromCharCode.apply(null, chunk));\n",
              "      yield {\n",
              "        response: {\n",
              "          action: 'append',\n",
              "          file: file.name,\n",
              "          data: base64,\n",
              "        },\n",
              "      };\n",
              "\n",
              "      let percentDone = fileData.byteLength === 0 ?\n",
              "          100 :\n",
              "          Math.round((position / fileData.byteLength) * 100);\n",
              "      percent.textContent = `${percentDone}% done`;\n",
              "\n",
              "    } while (position < fileData.byteLength);\n",
              "  }\n",
              "\n",
              "  // All done.\n",
              "  yield {\n",
              "    response: {\n",
              "      action: 'complete',\n",
              "    }\n",
              "  };\n",
              "}\n",
              "\n",
              "scope.google = scope.google || {};\n",
              "scope.google.colab = scope.google.colab || {};\n",
              "scope.google.colab._files = {\n",
              "  _uploadFiles,\n",
              "  _uploadFilesContinue,\n",
              "};\n",
              "})(self);\n",
              "</script> "
            ]
          },
          "metadata": {}
        },
        {
          "output_type": "stream",
          "name": "stdout",
          "text": [
            "Saving Ses01M_script01_1.txt to Ses01M_script01_1 (3).txt\n",
            "Saving Ses01M_script01_2.txt to Ses01M_script01_2 (2).txt\n",
            "Saving Ses01M_script01_3.txt to Ses01M_script01_3 (2).txt\n"
          ]
        }
      ]
    },
    {
      "cell_type": "markdown",
      "source": [
        "READING THE DATA"
      ],
      "metadata": {
        "id": "7CnjJtuUlj1e"
      }
    },
    {
      "cell_type": "code",
      "execution_count": 21,
      "metadata": {
        "colab": {
          "base_uri": "https://localhost:8080/"
        },
        "id": "tHpsKIq9f4Ej",
        "outputId": "45ac1e19-0c3e-4959-b52d-03f6ba7924a8"
      },
      "outputs": [
        {
          "output_type": "stream",
          "name": "stdout",
          "text": [
            "     start_time  end_time               turn_name emotion  valence  arousal  \\\n",
            "0        8.0600   11.5914  Ses01M_script01_1_F000     fru   2.0000   1.6667   \n",
            "1       14.4000   16.6181  Ses01M_script01_1_F001     sur   2.0000   2.6667   \n",
            "2       19.2815   23.9200  Ses01M_script01_1_F002     sur   2.0000   3.3333   \n",
            "3       29.3349   33.2000  Ses01M_script01_1_F003     sur   2.6667   2.6667   \n",
            "4       39.7634   42.1267  Ses01M_script01_1_F004     sad   2.0000   2.0000   \n",
            "..          ...       ...                     ...     ...      ...      ...   \n",
            "190    431.0408  439.0700  Ses01M_script01_3_M039     sad   1.5000   3.5000   \n",
            "191    439.4800  449.9100  Ses01M_script01_3_M040     sad   1.5000   2.5000   \n",
            "192    460.4000  463.8500  Ses01M_script01_3_M041     sad   2.0000   1.5000   \n",
            "193    499.4600  502.2700  Ses01M_script01_3_M042     xxx   3.5000   2.0000   \n",
            "194    507.7700  511.4612  Ses01M_script01_3_M043     hap   4.0000   2.5000   \n",
            "\n",
            "     dominance                                        annotations  \n",
            "0       1.6667  [(C-E1, Frustration), (C-E2, Sadness), (C-E4, ...  \n",
            "1       3.0000  [(C-E1, Anger), (C-E2, Surprise), (C-E4, Surpr...  \n",
            "2       3.0000  [(C-E1, Frustration), (C-E2, Surprise), (C-E4,...  \n",
            "3       2.6667  [(C-E1, Frustration), (C-E2, Surprise), (C-E4,...  \n",
            "4       2.0000   [(C-E1, Fear), (C-E2, Sadness), (C-E4, Sadness)]  \n",
            "..         ...                                                ...  \n",
            "190     2.5000                                  [(C-E1, Sadness)]  \n",
            "191     2.5000                 [(C-E1, Sadness), (C-E2, Sadness)]  \n",
            "192     2.0000                 [(C-E2, Sadness), (C-E4, Sadness)]  \n",
            "193     2.0000  [(C-E1, Happiness), (C-E2, Sadness), (C-E4, Ne...  \n",
            "194     2.5000  [(C-E1, Happiness), (C-E2, Happiness), (C-E4, ...  \n",
            "\n",
            "[195 rows x 8 columns]\n"
          ]
        }
      ],
      "source": [
        "import pandas as pd\n",
        "import re\n",
        "\n",
        "# List of file paths\n",
        "file_paths = ['Ses01M_script01_1.txt', 'Ses01M_script01_2.txt', 'Ses01M_script01_3.txt']\n",
        "data = []\n",
        "\n",
        "for file_path in file_paths:\n",
        "    with open(file_path, 'r') as file:\n",
        "        lines = file.readlines()\n",
        "        current_entry = {}\n",
        "        for line in lines:\n",
        "            match = re.match(r'\\[(\\d+\\.\\d+) - (\\d+\\.\\d+)\\]\\s+(\\S+)\\s+(\\w+)\\s+\\[(\\d+\\.\\d+), (\\d+\\.\\d+), (\\d+\\.\\d+)\\]', line)\n",
        "            if match:\n",
        "                if current_entry:\n",
        "                    data.append(current_entry)\n",
        "                current_entry = {\n",
        "                    'start_time': float(match.group(1)),\n",
        "                    'end_time': float(match.group(2)),\n",
        "                    'turn_name': match.group(3),\n",
        "                    'emotion': match.group(4),\n",
        "                    'valence': float(match.group(5)),\n",
        "                    'arousal': float(match.group(6)),\n",
        "                    'dominance': float(match.group(7)),\n",
        "                    'annotations': []\n",
        "                }\n",
        "            else:\n",
        "                annotation_match = re.match(r'(\\w+-E\\d+):\\s+([\\w\\s]+);\\s*\\(\\)', line)\n",
        "                if annotation_match and current_entry:\n",
        "                    current_entry['annotations'].append((annotation_match.group(1), annotation_match.group(2)))\n",
        "\n",
        "        if current_entry:\n",
        "            data.append(current_entry)\n",
        "\n",
        "# Convert to DataFrame\n",
        "df = pd.DataFrame(data)\n",
        "\n",
        "print(df)\n"
      ]
    },
    {
      "cell_type": "markdown",
      "source": [
        "DATA PREPROCESSING"
      ],
      "metadata": {
        "id": "gvyviHLXlnul"
      }
    },
    {
      "cell_type": "code",
      "source": [
        "# Inspect the first few rows of the dataframe\n",
        "print(df.head())\n",
        "\n",
        "# Check for missing values and fill if any\n",
        "df.fillna('', inplace=True)\n",
        "\n",
        "# Convert annotations to a single string for simplicity\n",
        "df['annotations'] = df['annotations'].apply(lambda x: ' '.join([f'{k}:{v}' for k, v in x]))\n",
        "\n",
        "# Encode categorical variables\n",
        "emotion_mapping = {emotion: idx for idx, emotion in enumerate(df['emotion'].unique())}\n",
        "df['emotion'] = df['emotion'].map(emotion_mapping)\n",
        "\n",
        "# Normalize VAD scores\n",
        "df['valence'] = df['valence'] / df['valence'].max()\n",
        "df['arousal'] = df['arousal'] / df['arousal'].max()\n",
        "df['dominance'] = df['dominance'] / df['dominance'].max()\n",
        "\n",
        "# Combine all relevant features into a single string for the transformer model input\n",
        "df['input_text'] = df.apply(lambda row: f\"{row['turn_name']} {row['annotations']} Emotion:{row['emotion']} VAD:[{row['valence']}, {row['arousal']}, {row['dominance']}]\", axis=1)\n",
        "\n",
        "# Print the processed DataFrame\n",
        "print(df[['start_time', 'end_time', 'input_text']].head())\n"
      ],
      "metadata": {
        "colab": {
          "base_uri": "https://localhost:8080/"
        },
        "id": "czTvhPH0f8Mo",
        "outputId": "aea1c470-dadd-4fd1-9bbb-979767b7eb56"
      },
      "execution_count": 22,
      "outputs": [
        {
          "output_type": "stream",
          "name": "stdout",
          "text": [
            "   start_time  end_time               turn_name emotion  valence  arousal  \\\n",
            "0      8.0600   11.5914  Ses01M_script01_1_F000     fru   2.0000   1.6667   \n",
            "1     14.4000   16.6181  Ses01M_script01_1_F001     sur   2.0000   2.6667   \n",
            "2     19.2815   23.9200  Ses01M_script01_1_F002     sur   2.0000   3.3333   \n",
            "3     29.3349   33.2000  Ses01M_script01_1_F003     sur   2.6667   2.6667   \n",
            "4     39.7634   42.1267  Ses01M_script01_1_F004     sad   2.0000   2.0000   \n",
            "\n",
            "   dominance                                        annotations  \n",
            "0     1.6667  [(C-E1, Frustration), (C-E2, Sadness), (C-E4, ...  \n",
            "1     3.0000  [(C-E1, Anger), (C-E2, Surprise), (C-E4, Surpr...  \n",
            "2     3.0000  [(C-E1, Frustration), (C-E2, Surprise), (C-E4,...  \n",
            "3     2.6667  [(C-E1, Frustration), (C-E2, Surprise), (C-E4,...  \n",
            "4     2.0000   [(C-E1, Fear), (C-E2, Sadness), (C-E4, Sadness)]  \n",
            "   start_time  end_time                                         input_text\n",
            "0      8.0600   11.5914  Ses01M_script01_1_F000 C-E1:Frustration C-E2:S...\n",
            "1     14.4000   16.6181  Ses01M_script01_1_F001 C-E1:Anger C-E2:Surpris...\n",
            "2     19.2815   23.9200  Ses01M_script01_1_F002 C-E1:Frustration C-E2:S...\n",
            "3     29.3349   33.2000  Ses01M_script01_1_F003 C-E1:Frustration C-E2:S...\n",
            "4     39.7634   42.1267  Ses01M_script01_1_F004 C-E1:Fear C-E2:Sadness ...\n"
          ]
        }
      ]
    },
    {
      "cell_type": "markdown",
      "source": [
        "TOKENIZATION"
      ],
      "metadata": {
        "id": "72LfI7Zblr8-"
      }
    },
    {
      "cell_type": "code",
      "source": [
        "from transformers import BertTokenizer\n",
        "\n",
        "# Load the tokenizer\n",
        "tokenizer = BertTokenizer.from_pretrained('bert-base-uncased')\n",
        "\n",
        "# Tokenize the input text\n",
        "inputs = tokenizer(df['input_text'].tolist(), return_tensors='pt', padding=True, truncation=True)\n",
        "\n",
        "# Print the tokenized inputs\n",
        "print(inputs)\n"
      ],
      "metadata": {
        "colab": {
          "base_uri": "https://localhost:8080/"
        },
        "id": "CFCIRns_gBLd",
        "outputId": "c0b07d07-3eaf-432b-ca2b-46a7053b4187"
      },
      "execution_count": 23,
      "outputs": [
        {
          "output_type": "stream",
          "name": "stdout",
          "text": [
            "{'input_ids': tensor([[ 101, 7367, 2015,  ...,    0,    0,    0],\n",
            "        [ 101, 7367, 2015,  ...,    0,    0,    0],\n",
            "        [ 101, 7367, 2015,  ...,    0,    0,    0],\n",
            "        ...,\n",
            "        [ 101, 7367, 2015,  ...,    0,    0,    0],\n",
            "        [ 101, 7367, 2015,  ...,    0,    0,    0],\n",
            "        [ 101, 7367, 2015,  ...,    0,    0,    0]]), 'token_type_ids': tensor([[0, 0, 0,  ..., 0, 0, 0],\n",
            "        [0, 0, 0,  ..., 0, 0, 0],\n",
            "        [0, 0, 0,  ..., 0, 0, 0],\n",
            "        ...,\n",
            "        [0, 0, 0,  ..., 0, 0, 0],\n",
            "        [0, 0, 0,  ..., 0, 0, 0],\n",
            "        [0, 0, 0,  ..., 0, 0, 0]]), 'attention_mask': tensor([[1, 1, 1,  ..., 0, 0, 0],\n",
            "        [1, 1, 1,  ..., 0, 0, 0],\n",
            "        [1, 1, 1,  ..., 0, 0, 0],\n",
            "        ...,\n",
            "        [1, 1, 1,  ..., 0, 0, 0],\n",
            "        [1, 1, 1,  ..., 0, 0, 0],\n",
            "        [1, 1, 1,  ..., 0, 0, 0]])}\n"
          ]
        }
      ]
    },
    {
      "cell_type": "markdown",
      "source": [
        "CUSTOM DATA CLASS"
      ],
      "metadata": {
        "id": "sIaNxsl4lv6I"
      }
    },
    {
      "cell_type": "code",
      "source": [
        "import torch\n",
        "\n",
        "# Define dataset class\n",
        "class CustomDataset(torch.utils.data.Dataset):\n",
        "    def __init__(self, encodings, labels):\n",
        "        self.encodings = encodings\n",
        "        self.labels = labels\n",
        "\n",
        "    def __getitem__(self, idx):\n",
        "        item = {key: torch.tensor(val[idx]) for key, val in self.encodings.items()}\n",
        "        item['labels'] = torch.tensor(self.labels[idx])\n",
        "        return item\n",
        "\n",
        "    def __len__(self):\n",
        "        return len(self.labels)\n",
        "\n",
        "labels = df['emotion'].tolist()\n",
        "dataset = CustomDataset(inputs, labels)\n"
      ],
      "metadata": {
        "id": "6hobLuLtgDdq"
      },
      "execution_count": 24,
      "outputs": []
    },
    {
      "cell_type": "markdown",
      "source": [
        "MODEL TRAINING"
      ],
      "metadata": {
        "id": "KfQqs9a9lznG"
      }
    },
    {
      "cell_type": "code",
      "source": [
        "from transformers import BertForSequenceClassification, Trainer, TrainingArguments\n",
        "from sklearn.metrics import mean_absolute_error\n",
        "import numpy as np\n",
        "\n",
        "# Define a function to compute metrics\n",
        "def compute_metrics(pred):\n",
        "    labels = pred.label_ids\n",
        "    preds = pred.predictions.argmax(-1)\n",
        "\n",
        "    # Compute loss\n",
        "    loss = np.mean(pred.predictions)\n",
        "\n",
        "    # Compute MAE\n",
        "    mae = mean_absolute_error(labels, preds)\n",
        "\n",
        "    return {\"loss\": loss, \"mae\": mae}\n",
        "\n",
        "# Define training arguments\n",
        "training_args = TrainingArguments(\n",
        "    output_dir='./results',\n",
        "    num_train_epochs=3,\n",
        "    per_device_train_batch_size=4,\n",
        "    per_device_eval_batch_size=4,\n",
        "    warmup_steps=500,\n",
        "    weight_decay=0.01,\n",
        "    logging_dir='./logs',\n",
        "    evaluation_strategy=\"epoch\",\n",
        ")\n",
        "\n",
        "# Define Trainer\n",
        "trainer = Trainer(\n",
        "    model=BertForSequenceClassification.from_pretrained('bert-base-uncased', num_labels=len(emotion_mapping)),\n",
        "    args=training_args,\n",
        "    train_dataset=dataset,\n",
        "    eval_dataset=dataset,\n",
        "    compute_metrics=compute_metrics\n",
        ")\n",
        "\n",
        "# Train the model\n",
        "trainer.train()\n"
      ],
      "metadata": {
        "colab": {
          "base_uri": "https://localhost:8080/",
          "height": 432
        },
        "id": "QbTvmxw6gHJS",
        "outputId": "a22626fc-5a2f-437f-f1ec-f841311b7863"
      },
      "execution_count": 25,
      "outputs": [
        {
          "output_type": "stream",
          "name": "stderr",
          "text": [
            "/usr/local/lib/python3.10/dist-packages/transformers/training_args.py:1494: FutureWarning: `evaluation_strategy` is deprecated and will be removed in version 4.46 of 🤗 Transformers. Use `eval_strategy` instead\n",
            "  warnings.warn(\n",
            "Some weights of BertForSequenceClassification were not initialized from the model checkpoint at bert-base-uncased and are newly initialized: ['classifier.bias', 'classifier.weight']\n",
            "You should probably TRAIN this model on a down-stream task to be able to use it for predictions and inference.\n",
            "<ipython-input-24-64b6216c8637>:10: UserWarning: To copy construct from a tensor, it is recommended to use sourceTensor.clone().detach() or sourceTensor.clone().detach().requires_grad_(True), rather than torch.tensor(sourceTensor).\n",
            "  item = {key: torch.tensor(val[idx]) for key, val in self.encodings.items()}\n"
          ]
        },
        {
          "output_type": "display_data",
          "data": {
            "text/plain": [
              "<IPython.core.display.HTML object>"
            ],
            "text/html": [
              "\n",
              "    <div>\n",
              "      \n",
              "      <progress value='147' max='147' style='width:300px; height:20px; vertical-align: middle;'></progress>\n",
              "      [147/147 12:16, Epoch 3/3]\n",
              "    </div>\n",
              "    <table border=\"1\" class=\"dataframe\">\n",
              "  <thead>\n",
              " <tr style=\"text-align: left;\">\n",
              "      <th>Epoch</th>\n",
              "      <th>Training Loss</th>\n",
              "      <th>Validation Loss</th>\n",
              "      <th>Mae</th>\n",
              "    </tr>\n",
              "  </thead>\n",
              "  <tbody>\n",
              "    <tr>\n",
              "      <td>1</td>\n",
              "      <td>No log</td>\n",
              "      <td>-0.004431</td>\n",
              "      <td>1.712821</td>\n",
              "    </tr>\n",
              "    <tr>\n",
              "      <td>2</td>\n",
              "      <td>No log</td>\n",
              "      <td>-0.021221</td>\n",
              "      <td>1.179487</td>\n",
              "    </tr>\n",
              "    <tr>\n",
              "      <td>3</td>\n",
              "      <td>No log</td>\n",
              "      <td>-0.020337</td>\n",
              "      <td>0.615385</td>\n",
              "    </tr>\n",
              "  </tbody>\n",
              "</table><p>"
            ]
          },
          "metadata": {}
        },
        {
          "output_type": "stream",
          "name": "stderr",
          "text": [
            "<ipython-input-24-64b6216c8637>:10: UserWarning: To copy construct from a tensor, it is recommended to use sourceTensor.clone().detach() or sourceTensor.clone().detach().requires_grad_(True), rather than torch.tensor(sourceTensor).\n",
            "  item = {key: torch.tensor(val[idx]) for key, val in self.encodings.items()}\n",
            "<ipython-input-24-64b6216c8637>:10: UserWarning: To copy construct from a tensor, it is recommended to use sourceTensor.clone().detach() or sourceTensor.clone().detach().requires_grad_(True), rather than torch.tensor(sourceTensor).\n",
            "  item = {key: torch.tensor(val[idx]) for key, val in self.encodings.items()}\n",
            "<ipython-input-24-64b6216c8637>:10: UserWarning: To copy construct from a tensor, it is recommended to use sourceTensor.clone().detach() or sourceTensor.clone().detach().requires_grad_(True), rather than torch.tensor(sourceTensor).\n",
            "  item = {key: torch.tensor(val[idx]) for key, val in self.encodings.items()}\n"
          ]
        },
        {
          "output_type": "execute_result",
          "data": {
            "text/plain": [
              "TrainOutput(global_step=147, training_loss=1.7209162290404443, metrics={'train_runtime': 741.8452, 'train_samples_per_second': 0.789, 'train_steps_per_second': 0.198, 'total_flos': 24351931646640.0, 'train_loss': 1.7209162290404443, 'epoch': 3.0})"
            ]
          },
          "metadata": {},
          "execution_count": 25
        }
      ]
    },
    {
      "cell_type": "markdown",
      "source": [
        "MODEL EVALUATION"
      ],
      "metadata": {
        "id": "4r1qkwZsl3rE"
      }
    },
    {
      "cell_type": "code",
      "source": [
        "# Evaluate the model on the training dataset\n",
        "results = trainer.evaluate()\n",
        "\n",
        "print(f\"Final evaluation results: {results}\")\n"
      ],
      "metadata": {
        "colab": {
          "base_uri": "https://localhost:8080/",
          "height": 109
        },
        "id": "SHab3sFOgJ2s",
        "outputId": "694892ac-2e0f-4253-907e-7839bc5933c5"
      },
      "execution_count": 26,
      "outputs": [
        {
          "output_type": "stream",
          "name": "stderr",
          "text": [
            "<ipython-input-24-64b6216c8637>:10: UserWarning: To copy construct from a tensor, it is recommended to use sourceTensor.clone().detach() or sourceTensor.clone().detach().requires_grad_(True), rather than torch.tensor(sourceTensor).\n",
            "  item = {key: torch.tensor(val[idx]) for key, val in self.encodings.items()}\n"
          ]
        },
        {
          "output_type": "display_data",
          "data": {
            "text/plain": [
              "<IPython.core.display.HTML object>"
            ],
            "text/html": [
              "\n",
              "    <div>\n",
              "      \n",
              "      <progress value='49' max='49' style='width:300px; height:20px; vertical-align: middle;'></progress>\n",
              "      [49/49 00:51]\n",
              "    </div>\n",
              "    "
            ]
          },
          "metadata": {}
        },
        {
          "output_type": "stream",
          "name": "stdout",
          "text": [
            "Final evaluation results: {'eval_loss': -0.02033732272684574, 'eval_mae': 0.6153846153846154, 'eval_runtime': 52.3883, 'eval_samples_per_second': 3.722, 'eval_steps_per_second': 0.935, 'epoch': 3.0}\n"
          ]
        }
      ]
    }
  ]
}